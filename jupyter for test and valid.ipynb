{
 "cells": [
  {
   "cell_type": "code",
   "execution_count": 1,
   "id": "ac8d95e6",
   "metadata": {},
   "outputs": [],
   "source": [
    "import numpy as np"
   ]
  },
  {
   "cell_type": "code",
   "execution_count": 15,
   "id": "d44327ce",
   "metadata": {},
   "outputs": [],
   "source": [
    "a = np.array([[[1, 2, 3],[3, 4, 5]]])\n",
    "b = np.array([[5, 6],[7, 8]])"
   ]
  },
  {
   "cell_type": "code",
   "execution_count": 16,
   "id": "628cf7d8",
   "metadata": {},
   "outputs": [
    {
     "data": {
      "text/plain": [
       "(1, 2, 3)"
      ]
     },
     "execution_count": 16,
     "metadata": {},
     "output_type": "execute_result"
    }
   ],
   "source": [
    "a.shape"
   ]
  },
  {
   "cell_type": "code",
   "execution_count": 17,
   "id": "522d03e6",
   "metadata": {},
   "outputs": [
    {
     "data": {
      "text/plain": [
       "3"
      ]
     },
     "execution_count": 17,
     "metadata": {},
     "output_type": "execute_result"
    }
   ],
   "source": [
    "a.ndim"
   ]
  },
  {
   "cell_type": "code",
   "execution_count": 9,
   "id": "cc1599d2",
   "metadata": {},
   "outputs": [],
   "source": [
    "a = np.array([[1, 2],[3, 4]])\n",
    "b = np.array([[5, 6],[7, 8]])\n",
    "\n",
    "c = np.concatenate((a, b), axis = 0)  # 沿着行来合并，把数组变长\n",
    "d = np.concatenate((a, b), axis = 1)  # 沿着列来合并，变宽"
   ]
  },
  {
   "cell_type": "code",
   "execution_count": 10,
   "id": "e931a3a2",
   "metadata": {},
   "outputs": [
    {
     "data": {
      "text/plain": [
       "array([[1, 2],\n",
       "       [3, 4],\n",
       "       [5, 6],\n",
       "       [7, 8]])"
      ]
     },
     "execution_count": 10,
     "metadata": {},
     "output_type": "execute_result"
    }
   ],
   "source": [
    "c"
   ]
  },
  {
   "cell_type": "code",
   "execution_count": 11,
   "id": "e8999697",
   "metadata": {},
   "outputs": [
    {
     "data": {
      "text/plain": [
       "(4, 2)"
      ]
     },
     "execution_count": 11,
     "metadata": {},
     "output_type": "execute_result"
    }
   ],
   "source": [
    "c.shape"
   ]
  },
  {
   "cell_type": "code",
   "execution_count": 12,
   "id": "315e504a",
   "metadata": {},
   "outputs": [
    {
     "data": {
      "text/plain": [
       "array([[1, 2, 5, 6],\n",
       "       [3, 4, 7, 8]])"
      ]
     },
     "execution_count": 12,
     "metadata": {},
     "output_type": "execute_result"
    }
   ],
   "source": [
    "d"
   ]
  },
  {
   "cell_type": "code",
   "execution_count": 13,
   "id": "6e652ae6",
   "metadata": {},
   "outputs": [
    {
     "data": {
      "text/plain": [
       "(2, 4)"
      ]
     },
     "execution_count": 13,
     "metadata": {},
     "output_type": "execute_result"
    }
   ],
   "source": [
    "d.shape"
   ]
  },
  {
   "cell_type": "code",
   "execution_count": 14,
   "id": "0a10c953",
   "metadata": {},
   "outputs": [
    {
     "data": {
      "text/plain": [
       "2"
      ]
     },
     "execution_count": 14,
     "metadata": {},
     "output_type": "execute_result"
    }
   ],
   "source": [
    "d.ndim"
   ]
  },
  {
   "cell_type": "code",
   "execution_count": 30,
   "id": "f0eacdfc",
   "metadata": {},
   "outputs": [
    {
     "name": "stdout",
     "output_type": "stream",
     "text": [
      "torch.Size([1, 2, 3])\n"
     ]
    },
    {
     "data": {
      "text/plain": [
       "True"
      ]
     },
     "execution_count": 30,
     "metadata": {},
     "output_type": "execute_result"
    }
   ],
   "source": [
    "import torch\n",
    "import numpy as np\n",
    " \n",
    "a=np.array([[[1,2,3],[4,5,6]]])\n",
    "unpermuted=torch.tensor(a)\n",
    "print(unpermuted.size())              #  ——>  torch.Size([1, 2, 3])\n",
    "unpermuted.is_contiguous()"
   ]
  },
  {
   "cell_type": "code",
   "execution_count": 32,
   "id": "a659bca2",
   "metadata": {},
   "outputs": [
    {
     "name": "stdout",
     "output_type": "stream",
     "text": [
      "torch.Size([3, 1, 2])\n"
     ]
    },
    {
     "data": {
      "text/plain": [
       "False"
      ]
     },
     "execution_count": 32,
     "metadata": {},
     "output_type": "execute_result"
    }
   ],
   "source": [
    "permuted=unpermuted.permute(2,0,1)\n",
    "print(permuted.size())                #  ——>  torch.Size([3, 1, 2])\n",
    "permuted.is_contiguous()"
   ]
  },
  {
   "cell_type": "code",
   "execution_count": 34,
   "id": "85bfaa56",
   "metadata": {},
   "outputs": [
    {
     "data": {
      "text/plain": [
       "tensor([1, 4, 2, 5, 3, 6])"
      ]
     },
     "execution_count": 34,
     "metadata": {},
     "output_type": "execute_result"
    }
   ],
   "source": [
    "permuted.contiguous().view(6)"
   ]
  },
  {
   "cell_type": "code",
   "execution_count": null,
   "id": "109e2cc1",
   "metadata": {},
   "outputs": [],
   "source": [
    "view_test = unpermuted.view(1,3,2)\n",
    "print(view_test.size())   \n",
    " \n",
    ">>>torch.Size([1, 2, 3])\n",
    "torch.Size([3, 1, 2])\n",
    "torch.Size([1, 3, 2])\n"
   ]
  },
  {
   "cell_type": "code",
   "execution_count": 35,
   "id": "a4dfd66c",
   "metadata": {},
   "outputs": [
    {
     "name": "stdout",
     "output_type": "stream",
     "text": [
      "torch.Size([1, 2, 3])\n",
      "torch.Size([3, 1, 2])\n",
      "torch.Size([1, 3, 2])\n"
     ]
    }
   ],
   "source": [
    "import torch\n",
    "import numpy as np\n",
    "\n",
    "a=np.array([[[1,2,3],[4,5,6]]])\n",
    "unpermuted=torch.tensor(a)\n",
    "print(unpermuted.size())              #  ——>  torch.Size([1, 2, 3])\n",
    "\n",
    "permuted=unpermuted.permute(2,0,1)\n",
    "print(permuted.size())                #  ——>  torch.Size([3, 1, 2])\n",
    "\n",
    "view_test = unpermuted.view(1,3,2)\n",
    "print(view_test.size())               #  ——>  torch.Size([1, 3, 2])"
   ]
  },
  {
   "cell_type": "code",
   "execution_count": 40,
   "id": "0f56f6a5",
   "metadata": {},
   "outputs": [
    {
     "data": {
      "text/plain": [
       "torch.Size([3, 1, 2])"
      ]
     },
     "execution_count": 40,
     "metadata": {},
     "output_type": "execute_result"
    }
   ],
   "source": [
    "permuted.size()\n"
   ]
  },
  {
   "cell_type": "code",
   "execution_count": 41,
   "id": "36671a52",
   "metadata": {},
   "outputs": [
    {
     "data": {
      "text/plain": [
       "tensor([[[1],\n",
       "         [4]],\n",
       "\n",
       "        [[2],\n",
       "         [5]],\n",
       "\n",
       "        [[3],\n",
       "         [6]]])"
      ]
     },
     "execution_count": 41,
     "metadata": {},
     "output_type": "execute_result"
    }
   ],
   "source": [
    "permuted.contiguous().view(3,2,1)"
   ]
  },
  {
   "cell_type": "code",
   "execution_count": 42,
   "id": "60ea1b7b",
   "metadata": {},
   "outputs": [],
   "source": [
    "indicies = [0]"
   ]
  },
  {
   "cell_type": "code",
   "execution_count": 43,
   "id": "2c18b9ca",
   "metadata": {},
   "outputs": [],
   "source": [
    "indicies += [5]"
   ]
  },
  {
   "cell_type": "code",
   "execution_count": 44,
   "id": "7a1c4436",
   "metadata": {},
   "outputs": [
    {
     "data": {
      "text/plain": [
       "[0, 5]"
      ]
     },
     "execution_count": 44,
     "metadata": {},
     "output_type": "execute_result"
    }
   ],
   "source": [
    "indicies"
   ]
  },
  {
   "cell_type": "code",
   "execution_count": 49,
   "id": "e98851e9",
   "metadata": {},
   "outputs": [
    {
     "data": {
      "text/plain": [
       "array([[1., 0., 0., 0.],\n",
       "       [0., 1., 0., 0.],\n",
       "       [0., 0., 1., 0.],\n",
       "       [0., 0., 0., 1.]])"
      ]
     },
     "execution_count": 49,
     "metadata": {},
     "output_type": "execute_result"
    }
   ],
   "source": [
    "from scipy.spatial.transform import Rotation as R\n",
    "from scipy.spatial.transform import Rotation\n",
    "pose = np.eye(4)\n",
    "pose"
   ]
  },
  {
   "cell_type": "code",
   "execution_count": 55,
   "id": "c6667183",
   "metadata": {},
   "outputs": [],
   "source": [
    "pose[:3, :3] = Rotation.from_quat([0.7907, 0.4393, -0.1770, -0.3879]).as_matrix()"
   ]
  },
  {
   "cell_type": "code",
   "execution_count": 59,
   "id": "a94a5f4a",
   "metadata": {},
   "outputs": [],
   "source": [
    "pose[:3, 3] = [1.2334, -0.0113, 1.6941]"
   ]
  },
  {
   "cell_type": "code",
   "execution_count": 60,
   "id": "a43fcd44",
   "metadata": {},
   "outputs": [
    {
     "data": {
      "text/plain": [
       "array([[ 0.55136691,  0.55740001, -0.62072519,  1.2334    ],\n",
       "       [ 0.83203694, -0.31308885,  0.45791909, -0.0113    ],\n",
       "       [ 0.06090197, -0.76894773, -0.63640423,  1.6941    ],\n",
       "       [ 0.        ,  0.        ,  0.        ,  1.        ]])"
      ]
     },
     "execution_count": 60,
     "metadata": {},
     "output_type": "execute_result"
    }
   ],
   "source": [
    "pose"
   ]
  },
  {
   "cell_type": "code",
   "execution_count": 63,
   "id": "51eb6d25",
   "metadata": {},
   "outputs": [],
   "source": [
    "c2w = pose"
   ]
  },
  {
   "cell_type": "code",
   "execution_count": 70,
   "id": "0fcfd9ef",
   "metadata": {},
   "outputs": [
    {
     "data": {
      "text/plain": [
       "array([[ 0.55136691,  0.55740001, -0.62072519,  1.2334    ],\n",
       "       [ 0.83203694, -0.31308885,  0.45791909, -0.0113    ],\n",
       "       [ 0.06090197, -0.76894773, -0.63640423,  1.6941    ],\n",
       "       [ 0.        ,  0.        ,  0.        ,  1.        ]])"
      ]
     },
     "execution_count": 70,
     "metadata": {},
     "output_type": "execute_result"
    }
   ],
   "source": [
    "c2w"
   ]
  },
  {
   "cell_type": "code",
   "execution_count": 64,
   "id": "ab9c349e",
   "metadata": {},
   "outputs": [],
   "source": [
    "inv_pose = np.linalg.inv(c2w)"
   ]
  },
  {
   "cell_type": "code",
   "execution_count": 69,
   "id": "855f4fe7",
   "metadata": {},
   "outputs": [
    {
     "data": {
      "text/plain": [
       "array([[ 0.55136691,  0.83203694,  0.06090197, -0.77382796],\n",
       "       [ 0.55740001, -0.31308885, -0.76894773,  0.61163927],\n",
       "       [-0.62072519,  0.45791909, -0.63640423,  1.84890934],\n",
       "       [ 0.        ,  0.        ,  0.        ,  1.        ]])"
      ]
     },
     "execution_count": 69,
     "metadata": {},
     "output_type": "execute_result"
    }
   ],
   "source": [
    "inv_pose"
   ]
  },
  {
   "cell_type": "code",
   "execution_count": 67,
   "id": "4beef41a",
   "metadata": {},
   "outputs": [
    {
     "data": {
      "text/plain": [
       "array([[ 1.00000000e+00, -1.55690940e-17, -5.64169655e-18,\n",
       "         0.00000000e+00],\n",
       "       [ 5.84266374e-17,  1.00000000e+00, -2.14226038e-17,\n",
       "         1.11022302e-16],\n",
       "       [ 5.91569825e-17,  7.48844148e-17,  1.00000000e+00,\n",
       "         2.22044605e-16],\n",
       "       [ 0.00000000e+00,  0.00000000e+00,  0.00000000e+00,\n",
       "         1.00000000e+00]])"
      ]
     },
     "execution_count": 67,
     "metadata": {},
     "output_type": "execute_result"
    }
   ],
   "source": [
    "inv_pose@c2w "
   ]
  },
  {
   "cell_type": "code",
   "execution_count": 68,
   "id": "7c54b288",
   "metadata": {},
   "outputs": [
    {
     "data": {
      "text/plain": [
       "array([[ 0.30400547,  0.4637774 , -0.03780339, -0.95443941],\n",
       "       [ 0.4637774 ,  0.09802463, -0.35211584, -0.00691152],\n",
       "       [-0.03780339, -0.35211584,  0.40501035,  3.13223731],\n",
       "       [ 0.        ,  0.        ,  0.        ,  1.        ]])"
      ]
     },
     "execution_count": 68,
     "metadata": {},
     "output_type": "execute_result"
    }
   ],
   "source": [
    "inv_pose*c2w "
   ]
  },
  {
   "cell_type": "code",
   "execution_count": 71,
   "id": "b24a437f",
   "metadata": {},
   "outputs": [],
   "source": [
    "c2w[:3, 1] *= -1\n",
    "c2w[:3, 2] *= -1"
   ]
  },
  {
   "cell_type": "code",
   "execution_count": 72,
   "id": "8fa90e55",
   "metadata": {},
   "outputs": [
    {
     "data": {
      "text/plain": [
       "array([[ 0.55136691, -0.55740001,  0.62072519,  1.2334    ],\n",
       "       [ 0.83203694,  0.31308885, -0.45791909, -0.0113    ],\n",
       "       [ 0.06090197,  0.76894773,  0.63640423,  1.6941    ],\n",
       "       [ 0.        ,  0.        ,  0.        ,  1.        ]])"
      ]
     },
     "execution_count": 72,
     "metadata": {},
     "output_type": "execute_result"
    }
   ],
   "source": [
    "c2w"
   ]
  },
  {
   "cell_type": "code",
   "execution_count": null,
   "id": "0c354ba0",
   "metadata": {},
   "outputs": [],
   "source": []
  },
  {
   "cell_type": "code",
   "execution_count": null,
   "id": "2033990b",
   "metadata": {},
   "outputs": [],
   "source": []
  },
  {
   "cell_type": "code",
   "execution_count": null,
   "id": "1a241035",
   "metadata": {},
   "outputs": [],
   "source": []
  },
  {
   "cell_type": "code",
   "execution_count": null,
   "id": "3ee6307e",
   "metadata": {},
   "outputs": [],
   "source": []
  },
  {
   "cell_type": "code",
   "execution_count": null,
   "id": "8e607b41",
   "metadata": {},
   "outputs": [],
   "source": []
  }
 ],
 "metadata": {
  "kernelspec": {
   "display_name": "Python 3 (ipykernel)",
   "language": "python",
   "name": "python3"
  },
  "language_info": {
   "codemirror_mode": {
    "name": "ipython",
    "version": 3
   },
   "file_extension": ".py",
   "mimetype": "text/x-python",
   "name": "python",
   "nbconvert_exporter": "python",
   "pygments_lexer": "ipython3",
   "version": "3.7.11"
  }
 },
 "nbformat": 4,
 "nbformat_minor": 5
}
